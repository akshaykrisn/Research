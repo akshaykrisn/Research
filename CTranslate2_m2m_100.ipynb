{
  "nbformat": 4,
  "nbformat_minor": 0,
  "metadata": {
    "colab": {
      "provenance": [],
      "include_colab_link": true
    },
    "kernelspec": {
      "name": "python3",
      "display_name": "Python 3"
    },
    "language_info": {
      "name": "python"
    },
    "accelerator": "GPU"
  },
  "cells": [
    {
      "cell_type": "markdown",
      "metadata": {
        "id": "view-in-github",
        "colab_type": "text"
      },
      "source": [
        "<a href=\"https://colab.research.google.com/github/akshaykrisn/Research/blob/main/CTranslate2_m2m_100.ipynb\" target=\"_parent\"><img src=\"https://colab.research.google.com/assets/colab-badge.svg\" alt=\"Open In Colab\"/></a>"
      ]
    },
    {
      "cell_type": "markdown",
      "source": [
        "The Example page:\n",
        "https://gist.github.com/ymoslem/a414a0ead0d3e50f4d7ff7110b1d1c0d"
      ],
      "metadata": {
        "id": "hLOxFadKRtZx"
      }
    },
    {
      "cell_type": "markdown",
      "source": [
        "# New Section"
      ],
      "metadata": {
        "id": "XPCTztcnXaxb"
      }
    },
    {
      "cell_type": "markdown",
      "source": [
        "# New Section"
      ],
      "metadata": {
        "id": "atH5E9eiXbQs"
      }
    },
    {
      "cell_type": "code",
      "source": [
        "!wget https://bit.ly/3GYiaed"
      ],
      "metadata": {
        "colab": {
          "base_uri": "https://localhost:8080/"
        },
        "id": "RnN-P9K7FWRP",
        "outputId": "78f8e129-7b63-4d2a-df9f-7e59da7f28e9"
      },
      "execution_count": null,
      "outputs": [
        {
          "output_type": "stream",
          "name": "stdout",
          "text": [
            "--2023-12-19 18:42:59--  https://bit.ly/3GYiaed\n",
            "Resolving bit.ly (bit.ly)... 67.199.248.10, 67.199.248.11\n",
            "Connecting to bit.ly (bit.ly)|67.199.248.10|:443... connected.\n",
            "HTTP request sent, awaiting response... 301 Moved Permanently\n",
            "Location: https://pretrained-nmt-models.s3.us-west-2.amazonaws.com/CTranslate2/m2m100/m2m100_ct2_12b.zip?utm_source=github [following]\n",
            "--2023-12-19 18:42:59--  https://pretrained-nmt-models.s3.us-west-2.amazonaws.com/CTranslate2/m2m100/m2m100_ct2_12b.zip?utm_source=github\n",
            "Resolving pretrained-nmt-models.s3.us-west-2.amazonaws.com (pretrained-nmt-models.s3.us-west-2.amazonaws.com)... 52.92.225.82, 52.218.217.57, 52.92.248.10, ...\n",
            "Connecting to pretrained-nmt-models.s3.us-west-2.amazonaws.com (pretrained-nmt-models.s3.us-west-2.amazonaws.com)|52.92.225.82|:443... connected.\n",
            "HTTP request sent, awaiting response... 200 OK\n",
            "Length: 1164443835 (1.1G) [application/zip]\n",
            "Saving to: ‘3GYiaed’\n",
            "\n",
            "3GYiaed             100%[===================>]   1.08G  25.4MB/s    in 26s     \n",
            "\n",
            "2023-12-19 18:43:26 (42.3 MB/s) - ‘3GYiaed’ saved [1164443835/1164443835]\n",
            "\n"
          ]
        }
      ]
    },
    {
      "cell_type": "code",
      "source": [
        "!unzip \"/content/3GYiaed\" -d \"/content/output_folder/\""
      ],
      "metadata": {
        "colab": {
          "base_uri": "https://localhost:8080/"
        },
        "id": "Ut25joXsP1yY",
        "outputId": "f9c78f60-a639-4e3f-82bc-2242177848f9"
      },
      "execution_count": null,
      "outputs": [
        {
          "output_type": "stream",
          "name": "stdout",
          "text": [
            "Archive:  /content/3GYiaed\n",
            "   creating: /content/output_folder/m2m100_12b/\n",
            "  inflating: /content/output_folder/m2m100_12b/sentencepiece.model  \n",
            "  inflating: /content/output_folder/m2m100_12b/model.bin  \n",
            "  inflating: /content/output_folder/m2m100_12b/shared_vocabulary.txt  \n"
          ]
        }
      ]
    },
    {
      "cell_type": "code",
      "source": [
        "!wget https://dl.fbaipublicfiles.com/m2m_100/spm.128k.model"
      ],
      "metadata": {
        "colab": {
          "base_uri": "https://localhost:8080/"
        },
        "id": "ZErY4odJGZgB",
        "outputId": "7920ea21-7176-4b32-a9d7-5814e00c75b1"
      },
      "execution_count": null,
      "outputs": [
        {
          "output_type": "stream",
          "name": "stdout",
          "text": [
            "--2023-12-19 18:44:06--  https://dl.fbaipublicfiles.com/m2m_100/spm.128k.model\n",
            "Resolving dl.fbaipublicfiles.com (dl.fbaipublicfiles.com)... 13.226.210.25, 13.226.210.111, 13.226.210.78, ...\n",
            "Connecting to dl.fbaipublicfiles.com (dl.fbaipublicfiles.com)|13.226.210.25|:443... connected.\n",
            "HTTP request sent, awaiting response... 200 OK\n",
            "Length: 2423393 (2.3M) [application/octet-stream]\n",
            "Saving to: ‘spm.128k.model’\n",
            "\n",
            "spm.128k.model      100%[===================>]   2.31M  13.8MB/s    in 0.2s    \n",
            "\n",
            "2023-12-19 18:44:06 (13.8 MB/s) - ‘spm.128k.model’ saved [2423393/2423393]\n",
            "\n"
          ]
        }
      ]
    },
    {
      "cell_type": "code",
      "source": [
        "%cd .."
      ],
      "metadata": {
        "colab": {
          "base_uri": "https://localhost:8080/"
        },
        "id": "-lbXaE8ALI3R",
        "outputId": "9d469b5b-50cd-44ae-c862-fe012964cd10"
      },
      "execution_count": null,
      "outputs": [
        {
          "output_type": "stream",
          "name": "stdout",
          "text": [
            "/\n"
          ]
        }
      ]
    },
    {
      "cell_type": "code",
      "source": [
        "!pip3 install ctranslate2 fairseq sentencepiece"
      ],
      "metadata": {
        "colab": {
          "base_uri": "https://localhost:8080/"
        },
        "id": "6990FwTZMHSZ",
        "outputId": "d87ef356-6d46-4a9a-f54c-42ae9812bc08"
      },
      "execution_count": null,
      "outputs": [
        {
          "output_type": "stream",
          "name": "stdout",
          "text": [
            "Collecting ctranslate2\n",
            "  Downloading ctranslate2-3.23.0-cp310-cp310-manylinux_2_17_x86_64.manylinux2014_x86_64.whl (36.8 MB)\n",
            "\u001b[2K     \u001b[90m━━━━━━━━━━━━━━━━━━━━━━━━━━━━━━━━━━━━━━━━\u001b[0m \u001b[32m36.8/36.8 MB\u001b[0m \u001b[31m40.7 MB/s\u001b[0m eta \u001b[36m0:00:00\u001b[0m\n",
            "\u001b[?25hCollecting fairseq\n",
            "  Downloading fairseq-0.12.2.tar.gz (9.6 MB)\n",
            "\u001b[2K     \u001b[90m━━━━━━━━━━━━━━━━━━━━━━━━━━━━━━━━━━━━━━━━\u001b[0m \u001b[32m9.6/9.6 MB\u001b[0m \u001b[31m94.0 MB/s\u001b[0m eta \u001b[36m0:00:00\u001b[0m\n",
            "\u001b[?25h  Installing build dependencies ... \u001b[?25l\u001b[?25hdone\n",
            "  Getting requirements to build wheel ... \u001b[?25l\u001b[?25hdone\n",
            "  Installing backend dependencies ... \u001b[?25l\u001b[?25hdone\n",
            "  Preparing metadata (pyproject.toml) ... \u001b[?25l\u001b[?25hdone\n",
            "Collecting sentencepiece\n",
            "  Downloading sentencepiece-0.1.99-cp310-cp310-manylinux_2_17_x86_64.manylinux2014_x86_64.whl (1.3 MB)\n",
            "\u001b[2K     \u001b[90m━━━━━━━━━━━━━━━━━━━━━━━━━━━━━━━━━━━━━━━━\u001b[0m \u001b[32m1.3/1.3 MB\u001b[0m \u001b[31m79.8 MB/s\u001b[0m eta \u001b[36m0:00:00\u001b[0m\n",
            "\u001b[?25hRequirement already satisfied: setuptools in /usr/local/lib/python3.10/dist-packages (from ctranslate2) (67.7.2)\n",
            "Requirement already satisfied: numpy in /usr/local/lib/python3.10/dist-packages (from ctranslate2) (1.23.5)\n",
            "Requirement already satisfied: pyyaml<7,>=5.3 in /usr/local/lib/python3.10/dist-packages (from ctranslate2) (6.0.1)\n",
            "Requirement already satisfied: cffi in /usr/local/lib/python3.10/dist-packages (from fairseq) (1.16.0)\n",
            "Requirement already satisfied: cython in /usr/local/lib/python3.10/dist-packages (from fairseq) (3.0.6)\n",
            "Collecting hydra-core<1.1,>=1.0.7 (from fairseq)\n",
            "  Downloading hydra_core-1.0.7-py3-none-any.whl (123 kB)\n",
            "\u001b[2K     \u001b[90m━━━━━━━━━━━━━━━━━━━━━━━━━━━━━━━━━━━━━━━━\u001b[0m \u001b[32m123.8/123.8 kB\u001b[0m \u001b[31m19.5 MB/s\u001b[0m eta \u001b[36m0:00:00\u001b[0m\n",
            "\u001b[?25hCollecting omegaconf<2.1 (from fairseq)\n",
            "  Downloading omegaconf-2.0.6-py3-none-any.whl (36 kB)\n",
            "Requirement already satisfied: regex in /usr/local/lib/python3.10/dist-packages (from fairseq) (2023.6.3)\n",
            "Collecting sacrebleu>=1.4.12 (from fairseq)\n",
            "  Downloading sacrebleu-2.4.0-py3-none-any.whl (106 kB)\n",
            "\u001b[2K     \u001b[90m━━━━━━━━━━━━━━━━━━━━━━━━━━━━━━━━━━━━━━━━\u001b[0m \u001b[32m106.3/106.3 kB\u001b[0m \u001b[31m16.6 MB/s\u001b[0m eta \u001b[36m0:00:00\u001b[0m\n",
            "\u001b[?25hRequirement already satisfied: torch in /usr/local/lib/python3.10/dist-packages (from fairseq) (2.1.0+cu121)\n",
            "Requirement already satisfied: tqdm in /usr/local/lib/python3.10/dist-packages (from fairseq) (4.66.1)\n",
            "Collecting bitarray (from fairseq)\n",
            "  Downloading bitarray-2.9.0-cp310-cp310-manylinux_2_17_x86_64.manylinux2014_x86_64.whl (288 kB)\n",
            "\u001b[2K     \u001b[90m━━━━━━━━━━━━━━━━━━━━━━━━━━━━━━━━━━━━━━━━\u001b[0m \u001b[32m288.2/288.2 kB\u001b[0m \u001b[31m39.4 MB/s\u001b[0m eta \u001b[36m0:00:00\u001b[0m\n",
            "\u001b[?25hRequirement already satisfied: torchaudio>=0.8.0 in /usr/local/lib/python3.10/dist-packages (from fairseq) (2.1.0+cu121)\n",
            "Collecting antlr4-python3-runtime==4.8 (from hydra-core<1.1,>=1.0.7->fairseq)\n",
            "  Downloading antlr4-python3-runtime-4.8.tar.gz (112 kB)\n",
            "\u001b[2K     \u001b[90m━━━━━━━━━━━━━━━━━━━━━━━━━━━━━━━━━━━━━━━━\u001b[0m \u001b[32m112.4/112.4 kB\u001b[0m \u001b[31m19.7 MB/s\u001b[0m eta \u001b[36m0:00:00\u001b[0m\n",
            "\u001b[?25h  Preparing metadata (setup.py) ... \u001b[?25l\u001b[?25hdone\n",
            "Requirement already satisfied: typing-extensions in /usr/local/lib/python3.10/dist-packages (from omegaconf<2.1->fairseq) (4.5.0)\n",
            "Collecting portalocker (from sacrebleu>=1.4.12->fairseq)\n",
            "  Downloading portalocker-2.8.2-py3-none-any.whl (17 kB)\n",
            "Requirement already satisfied: tabulate>=0.8.9 in /usr/local/lib/python3.10/dist-packages (from sacrebleu>=1.4.12->fairseq) (0.9.0)\n",
            "Collecting colorama (from sacrebleu>=1.4.12->fairseq)\n",
            "  Downloading colorama-0.4.6-py2.py3-none-any.whl (25 kB)\n",
            "Requirement already satisfied: lxml in /usr/local/lib/python3.10/dist-packages (from sacrebleu>=1.4.12->fairseq) (4.9.3)\n",
            "Requirement already satisfied: filelock in /usr/local/lib/python3.10/dist-packages (from torch->fairseq) (3.13.1)\n",
            "Requirement already satisfied: sympy in /usr/local/lib/python3.10/dist-packages (from torch->fairseq) (1.12)\n",
            "Requirement already satisfied: networkx in /usr/local/lib/python3.10/dist-packages (from torch->fairseq) (3.2.1)\n",
            "Requirement already satisfied: jinja2 in /usr/local/lib/python3.10/dist-packages (from torch->fairseq) (3.1.2)\n",
            "Requirement already satisfied: fsspec in /usr/local/lib/python3.10/dist-packages (from torch->fairseq) (2023.6.0)\n",
            "Requirement already satisfied: triton==2.1.0 in /usr/local/lib/python3.10/dist-packages (from torch->fairseq) (2.1.0)\n",
            "Requirement already satisfied: pycparser in /usr/local/lib/python3.10/dist-packages (from cffi->fairseq) (2.21)\n",
            "Requirement already satisfied: MarkupSafe>=2.0 in /usr/local/lib/python3.10/dist-packages (from jinja2->torch->fairseq) (2.1.3)\n",
            "Requirement already satisfied: mpmath>=0.19 in /usr/local/lib/python3.10/dist-packages (from sympy->torch->fairseq) (1.3.0)\n",
            "Building wheels for collected packages: fairseq, antlr4-python3-runtime\n",
            "  Building wheel for fairseq (pyproject.toml) ... \u001b[?25l\u001b[?25hdone\n",
            "  Created wheel for fairseq: filename=fairseq-0.12.2-cp310-cp310-linux_x86_64.whl size=11291804 sha256=c647b2922f24aed3c98d3adbab82e6f544938ff984a9359239b27f3b0f7d54e4\n",
            "  Stored in directory: /root/.cache/pip/wheels/e4/35/55/9c66f65ec7c83fd6fbc2b9502a0ac81b2448a1196159dacc32\n",
            "  Building wheel for antlr4-python3-runtime (setup.py) ... \u001b[?25l\u001b[?25hdone\n",
            "  Created wheel for antlr4-python3-runtime: filename=antlr4_python3_runtime-4.8-py3-none-any.whl size=141210 sha256=2837e826f31207ae11ee7f250235428c3d0f3423ba8632bcc0bf10e64500e502\n",
            "  Stored in directory: /root/.cache/pip/wheels/a7/20/bd/e1477d664f22d99989fd28ee1a43d6633dddb5cb9e801350d5\n",
            "Successfully built fairseq antlr4-python3-runtime\n",
            "Installing collected packages: sentencepiece, bitarray, antlr4-python3-runtime, portalocker, omegaconf, ctranslate2, colorama, sacrebleu, hydra-core, fairseq\n",
            "Successfully installed antlr4-python3-runtime-4.8 bitarray-2.9.0 colorama-0.4.6 ctranslate2-3.23.0 fairseq-0.12.2 hydra-core-1.0.7 omegaconf-2.0.6 portalocker-2.8.2 sacrebleu-2.4.0 sentencepiece-0.1.99\n"
          ]
        }
      ]
    },
    {
      "cell_type": "code",
      "source": [
        "pip install cublas"
      ],
      "metadata": {
        "id": "r9FZ7pIdc2g5",
        "outputId": "28eb07bd-9bac-46a1-815f-bc15e830dd03",
        "colab": {
          "base_uri": "https://localhost:8080/"
        }
      },
      "execution_count": null,
      "outputs": [
        {
          "output_type": "stream",
          "name": "stdout",
          "text": [
            "\u001b[31mERROR: Could not find a version that satisfies the requirement cublas (from versions: none)\u001b[0m\u001b[31m\n",
            "\u001b[0m\u001b[31mERROR: No matching distribution found for cublas\u001b[0m\u001b[31m\n",
            "\u001b[0m"
          ]
        }
      ]
    },
    {
      "cell_type": "code",
      "source": [
        "import ctranslate2\n",
        "import sentencepiece as spm"
      ],
      "metadata": {
        "id": "Jqo6XIRcIIYg"
      },
      "execution_count": null,
      "outputs": []
    },
    {
      "cell_type": "code",
      "source": [],
      "metadata": {
        "id": "3ra8cKSUc11E"
      },
      "execution_count": null,
      "outputs": []
    },
    {
      "cell_type": "code",
      "source": [
        "# [Modify] Set file paths of the source and target\n",
        "source_file_path = \"/content/sample.txt\"\n",
        "target_file_path = \"/content/target_test2.txt\"\n",
        "\n",
        "# [Modify] Set paths to the CTranslate2 and SentencePiece models\n",
        "ct_model_path = \"/content/output_folder/m2m100_12b/\"\n",
        "sp_model_path = \"/content/spm.128k.model\"\n",
        "\n",
        "# [Modify] Set language prefixes of the source and target\n",
        "src_prefix = \"__ta__\"\n",
        "tgt_prefix = \"__en__\"\n",
        "\n",
        "# [Modify] Set the device and beam size\n",
        "device = \"cpu\"  # or \"cuda\" for GPU\n",
        "beam_size = 5"
      ],
      "metadata": {
        "id": "QuLcYg0tKtlg"
      },
      "execution_count": null,
      "outputs": []
    },
    {
      "cell_type": "code",
      "source": [
        "# Load the source SentecePiece model\n",
        "sp = spm.SentencePieceProcessor()\n",
        "sp.load(sp_model_path)\n",
        "\n",
        "# Open the source file\n",
        "with open(source_file_path, \"r\") as source:\n",
        "  lines = source.readlines()\n",
        "\n",
        "source_sents = [line.strip() for line in lines]\n",
        "target_prefix = [[tgt_prefix]] * len(source_sents)\n",
        "\n",
        "# Subword the source sentences\n",
        "source_sents_subworded = sp.encode(source_sents, out_type=str)\n",
        "source_sents_subworded = [[src_prefix] + sent for sent in source_sents_subworded]\n",
        "print(\"First sentence:\", source_sents_subworded[0])\n",
        "\n",
        "# Translate the source sentences\n",
        "translator = ctranslate2.Translator(ct_model_path, device=device)\n",
        "translations = translator.translate_batch(source_sents_subworded, batch_type=\"tokens\", max_batch_size=2024, target_prefix=target_prefix)\n",
        "translations = [translation[0]['tokens'] for translation in translations]\n",
        "\n",
        "# Desubword the target sentences\n",
        "translations_desubword = sp.decode(translations)\n",
        "translations_desubword = [sent[len(tgt_prefix):] for sent in translations_desubword]\n",
        "print(\"First translation:\", translations_desubword[0])\n",
        "for line in translations_desubword:\n",
        "  print(line)\n",
        "# Save the translations to the a file\n",
        "# with open(target_file_path, \"w+\", encoding=\"utf-8\") as target:\n",
        "#   for line in translations_desubword:\n",
        "#     target.write(line.strip() + \"\\n\")\n",
        "\n",
        "# print(\"Done! Target file saved at:\", target_file_path)"
      ],
      "metadata": {
        "colab": {
          "base_uri": "https://localhost:8080/"
        },
        "id": "TpTCGv3HMMNX",
        "outputId": "d5e0e1ae-6808-4a3c-ee50-8894db23cef7"
      },
      "execution_count": null,
      "outputs": [
        {
          "output_type": "stream",
          "name": "stdout",
          "text": [
            "First sentence: ['__ta__', '▁தி', 'ங்கள', 'ன்று', ',', '▁ஒரே', '▁நா', 'ளில்', '▁78', '▁எம்', '.', 'பி', '.', 'க்கள்', '▁ச', 'ஸ்ப', 'ெ', 'ண்ட்', '▁செய்ய', 'ப்பட்ட', 'த', 'ைய', 'டுத்து', ',', '▁பிர', 'த', 'மர்', '▁ந', 'ரே', 'ந்திர', '▁மோ', 'டிய', 'ின்', '▁அரச', 'ா', 'ங்கம்', '▁ஜ', 'ன', 'நாய', 'க', 'த்தை', '▁தா', 'க்கு', 'வத', 'ாக', '▁எதி', 'ர்க்க', 'ட்ச', 'ிகள்', '▁கு', 'ற்றம்', '▁சா', 'ட்ட', 'ின', '.']\n",
            "First translation:  On the other hand, in the same day, 78 MOPs were suspended, and the Prime Minister of the People's Republic of Kazakhstan's government proved the opposition was guilty of crimes against democracy.\n",
            " On the other hand, in the same day, 78 MOPs were suspended, and the Prime Minister of the People's Republic of Kazakhstan's government proved the opposition was guilty of crimes against democracy.\n",
            " by\n",
            " And in the end of the day, the cold and the cold will come to the heavens, and the cold will come to the heavens, and the cold will come to the heavens.\n",
            " by\n",
            " But the two of them, who are in the midst of the war, will have to wait a long time to end their departure.\n"
          ]
        },
        {
          "output_type": "stream",
          "name": "stderr",
          "text": [
            "<ipython-input-44-7a76a129a29c>:20: DeprecationWarning: Reading the TranslationResult object as a list of dictionaries is deprecated and will be removed in a future version. Please use the object attributes as described in the documentation: https://opennmt.net/CTranslate2/python/ctranslate2.TranslationResult.html\n",
            "  translations = [translation[0]['tokens'] for translation in translations]\n"
          ]
        }
      ]
    },
    {
      "cell_type": "code",
      "source": [],
      "metadata": {
        "id": "P_e2afJvMPav"
      },
      "execution_count": null,
      "outputs": []
    }
  ]
}